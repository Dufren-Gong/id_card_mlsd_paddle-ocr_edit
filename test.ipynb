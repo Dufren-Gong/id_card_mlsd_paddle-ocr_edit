{
 "cells": [
  {
   "cell_type": "code",
   "execution_count": 25,
   "metadata": {},
   "outputs": [
    {
     "data": {
      "text/plain": [
       "<Popen: returncode: None args: ['osascript', '-e', '\\ntell application \"Term...>"
      ]
     },
     "execution_count": 25,
     "metadata": {},
     "output_type": "execute_result"
    },
    {
     "name": "stdout",
     "output_type": "stream",
     "text": [
      "tab 1 of window id 6360\n"
     ]
    }
   ],
   "source": [
    "from my_utils.utils import delete_specific_files_and_folders\n",
    "import shutil, os, subprocess\n",
    "\n",
    "tip = input(\"请输入git更改描述:\")\n",
    "shell_path = './模版/配置和记录/upload_github.sh'\n",
    "delete_specific_files_and_folders('.', '__pycache__', '.DS_Store')\n",
    "gp = './模版/高频照片'\n",
    "hc = './模版/缓存照片'\n",
    "zp = './照片编辑结果'\n",
    "bj = './照片放这里'\n",
    "del_all = [gp, hc, zp, bj]\n",
    "for i in del_all:\n",
    "    if os.path.exists(i):\n",
    "        shutil.rmtree(i)\n",
    "subprocess.Popen(f'bash {shell_path} {tip}', shell=True)"
   ]
  },
  {
   "cell_type": "code",
   "execution_count": 20,
   "metadata": {},
   "outputs": [
    {
     "name": "stdout",
     "output_type": "stream",
     "text": [
      "tab 1 of window id 5754\n"
     ]
    }
   ],
   "source": [
    "import subprocess, platform, os\n",
    "\n",
    "current_os = platform.system()\n",
    "\n",
    "if current_os == \"Windows\":\n",
    "    conda_env = 'paddle-ocr'\n",
    "    shell_path = './模版/配置和记录/start_process.bat'\n",
    "    command = f\"cmd /c {shell_path} {conda_env}\"\n",
    "    subprocess.Popen(command, shell=True)\n",
    "elif current_os == \"Darwin\":  # macOS\n",
    "    conda_env = 'paddle-ocr'\n",
    "    shell_path = './模版/配置和记录/start_process.sh'\n",
    "    command = f\"\"\"\n",
    "    tell application \"Terminal\"\n",
    "        do script \"cd {os.getcwd()} && bash {shell_path}\"\n",
    "    end tell\n",
    "    \"\"\"\n",
    "    subprocess.Popen(['osascript', '-e', command])"
   ]
  }
 ],
 "metadata": {
  "kernelspec": {
   "display_name": "paddle-ocr",
   "language": "python",
   "name": "python3"
  },
  "language_info": {
   "codemirror_mode": {
    "name": "ipython",
    "version": 3
   },
   "file_extension": ".py",
   "mimetype": "text/x-python",
   "name": "python",
   "nbconvert_exporter": "python",
   "pygments_lexer": "ipython3",
   "version": "3.10.14"
  }
 },
 "nbformat": 4,
 "nbformat_minor": 2
}
