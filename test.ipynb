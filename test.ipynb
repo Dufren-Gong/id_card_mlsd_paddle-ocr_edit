{
 "cells": [
  {
   "cell_type": "code",
   "execution_count": 87,
   "metadata": {},
   "outputs": [],
   "source": [
    "#上传或者传输之前清除冗余项目\n",
    "from my_utils.utils import delete_specific_files_and_folders\n",
    "import os\n",
    "\n",
    "delete_specific_files_and_folders('.', '__pycache__', '.DS_Store')\n",
    "# gp = './模版/高频照片'\n",
    "# hc = './模版/缓存照片'\n",
    "# zp = './照片编辑结果'\n",
    "# bj = './照片放这里'\n",
    "# del_all = [gp, hc, zp, bj]\n",
    "# for i in del_all:\n",
    "#     if os.path.exists(i):\n",
    "#         shutil.rmtree(i)\n",
    "er = '配置/error.log'\n",
    "if os.path.exists(er):\n",
    "    os.remove(er)"
   ]
  },
  {
   "cell_type": "code",
   "execution_count": 88,
   "metadata": {},
   "outputs": [
    {
     "data": {
      "text/plain": [
       "<Popen: returncode: None args: 'bash 配置/upload_github.sh 添加批量替换功能'>"
      ]
     },
     "execution_count": 88,
     "metadata": {},
     "output_type": "execute_result"
    },
    {
     "name": "stdout",
     "output_type": "stream",
     "text": [
      "[main 4dfd170] 添加批量替换功能\n",
      " 7 files changed, 359 insertions(+), 56 deletions(-)\n",
      " create mode 100644 uis/replace_select.py\n"
     ]
    },
    {
     "name": "stderr",
     "output_type": "stream",
     "text": [
      "fatal: unable to access 'https://github.com/Dufren-Gong/id_card_mlsd_paddle-ocr_edit.git/': Failed to connect to 127.0.0.1 port 29758 after 0 ms: Couldn't connect to server\n"
     ]
    }
   ],
   "source": [
    "#上传git\n",
    "import subprocess\n",
    "\n",
    "#上传或者传输之前清除冗余项目\n",
    "from my_utils.utils import delete_specific_files_and_folders\n",
    "import os\n",
    "\n",
    "delete_specific_files_and_folders('.', '__pycache__', '.DS_Store')\n",
    "# gp = './模版/高频照片'\n",
    "# hc = './模版/缓存照片'\n",
    "# zp = './照片编辑结果'\n",
    "# bj = './照片放这里'\n",
    "# del_all = [gp, hc, zp, bj]\n",
    "# for i in del_all:\n",
    "#     if os.path.exists(i):\n",
    "#         shutil.rmtree(i)\n",
    "er = '配置/error.log'\n",
    "if os.path.exists(er):\n",
    "    os.remove(er)\n",
    "\n",
    "tip = input(\"请输入git更改描述:\")\n",
    "shell_path = '配置/upload_github.sh'\n",
    "subprocess.Popen(f'bash {shell_path} {tip}', shell=True)"
   ]
  },
  {
   "cell_type": "code",
   "execution_count": 6,
   "metadata": {},
   "outputs": [
    {
     "name": "stdout",
     "output_type": "stream",
     "text": [
      "tab 1 of window id 1020\n"
     ]
    }
   ],
   "source": [
    "#在mac或者windows上调试\n",
    "import subprocess, platform, os\n",
    "\n",
    "current_os = platform.system()\n",
    "\n",
    "if current_os == \"Windows\":\n",
    "    conda_env = 'paddle-ocr'\n",
    "    shell_path = '配置/start_process.bat'\n",
    "    command = f\"cmd /k {shell_path} {conda_env}\"\n",
    "    subprocess.Popen(command, shell=True)\n",
    "elif current_os == \"Darwin\":  # macOS\n",
    "    conda_env = 'paddle-ocr'\n",
    "    shell_path = '配置/start_process.sh'\n",
    "    command = f\"\"\"\n",
    "    tell application \"Terminal\"\n",
    "        do script \"cd {os.getcwd()} && bash {shell_path}\"\n",
    "    end tell\n",
    "    \"\"\"\n",
    "    subprocess.Popen(['osascript', '-e', command])"
   ]
  },
  {
   "cell_type": "code",
   "execution_count": 27,
   "metadata": {},
   "outputs": [
    {
     "name": "stdout",
     "output_type": "stream",
     "text": [
      "./uis/function_and_info_ui.py: 1316 行\n",
      "./windows/main_window.py: 1307 行\n",
      "./my_utils/operate_excel.py: 970 行\n",
      "./onnxocr/rec_postprocess.py: 895 行\n",
      "./uis/photo_gallery_ui/name_pic_ui.py: 884 行\n",
      "./my_utils/mlsd_utils.py: 597 行\n",
      "./my_utils/utils.py: 528 行\n",
      "./uis/photo_gallery_ui/cut_pic_ui.py: 509 行\n",
      "./uis/main_window_ui.py: 422 行\n",
      "./my_utils/ocr_by_paddleocr.py: 406 行\n",
      "./onnxocr/utils.py: 387 行\n",
      "./onnxocr/predict_rec.py: 326 行\n",
      "./windows/show_pic_window.py: 299 行\n",
      "./onnxocr/db_postprocess.py: 276 行\n",
      "./my_utils/mlsd_scan.py: 273 行\n",
      "./uis/set_config.py: 273 行\n",
      "./test.ipynb: 248 行\n",
      "./my_utils/operate_word.py: 215 行\n",
      "./uis/photo_gallery_ui/scroll_area_for_cut.py: 201 行\n",
      "./my_utils/check.py: 190 行\n",
      "./onnxocr/operators.py: 185 行\n",
      "./windows/show_pic_window_for_name.py: 163 行\n",
      "./uis/replace_select.py: 156 行\n",
      "./main.py: 141 行\n",
      "./my_utils/threads.py: 138 行\n",
      "./onnxocr/predict_det.py: 120 行\n",
      "./uis/photo_gallery_ui/scroll_area.py: 107 行\n",
      "./onnxocr/predict_system.py: 97 行\n",
      "./each_types/zhuandan.py: 95 行\n",
      "./my_utils/merge_lines.py: 92 行\n",
      "./onnxocr/onnx_paddleocr.py: 92 行\n",
      "./onnxocr/predict_cls.py: 89 行\n",
      "./windows/pic_operate_window.py: 85 行\n",
      "./each_types/kaidan.py: 80 行\n",
      "./uis/shapes.py: 69 行\n",
      "./windows/show_info_window.py: 61 行\n",
      "./onnxocr/predict_base.py: 52 行\n",
      "./my_utils/pdf_to_pic.py: 46 行\n",
      "./onnxocr/logger.py: 45 行\n",
      "./onnxocr/imaug.py: 35 行\n",
      "./uis/show_info_window_ui.py: 32 行\n",
      "./each_types/nahuo.py: 31 行\n",
      "./onnxocr/cls_postprocess.py: 27 行\n",
      "./each_types/nianfei.py: 23 行\n",
      "./each_types/tuidan.py: 18 行\n",
      "./each_types/buka.py: 16 行\n",
      "./each_types/budan.py: 16 行\n",
      "./配置/update_windows.bat: 11 行\n",
      "./my_utils/Traditional_to_Simplified_Chinese.py: 10 行\n",
      "./配置/upload_github.sh: 9 行\n",
      "./配置/del_and_reopen.ps1: 8 行\n",
      "./配置/start_process.bat: 7 行\n",
      "./配置/start_process.sh: 4 行\n",
      "总行数（['.py', '.bat', '.sh', '.ps1', '.ipynb']文件）：12682 行\n"
     ]
    }
   ],
   "source": [
    "import os\n",
    "\n",
    "def count_lines_in_file(file_path):\n",
    "    with open(file_path, 'r', encoding='utf-8', errors='ignore') as f:\n",
    "        return sum(1 for _ in f)\n",
    "\n",
    "def count_lines_in_project(root_dir, extensions):\n",
    "    file_lines_list = []\n",
    "    total_lines = 0\n",
    "    for root, dirs, files in os.walk(root_dir):\n",
    "        for file in files:\n",
    "            if any(file.lower().endswith(ext) for ext in extensions):\n",
    "                path = os.path.join(root, file)\n",
    "                lines = count_lines_in_file(path)\n",
    "                file_lines_list.append((path, lines))\n",
    "                total_lines += lines\n",
    "\n",
    "    # 按照行数倒序排序\n",
    "    file_lines_list.sort(key=lambda x: x[1], reverse=True)\n",
    "\n",
    "    for path, lines in file_lines_list:\n",
    "        print(f'{path}: {lines} 行')\n",
    "\n",
    "    print(f'总行数（{extensions}文件）：{total_lines} 行')\n",
    "    return total_lines\n",
    "\n",
    "if __name__ == '__main__':\n",
    "    project_root = '.'\n",
    "    exts = ['.py', '.bat', '.sh', '.ps1', '.ipynb']  # 你想统计的文件后缀\n",
    "    count_lines_in_project(project_root, exts)\n"
   ]
  }
 ],
 "metadata": {
  "kernelspec": {
   "display_name": "paddle-ocr",
   "language": "python",
   "name": "python3"
  },
  "language_info": {
   "codemirror_mode": {
    "name": "ipython",
    "version": 3
   },
   "file_extension": ".py",
   "mimetype": "text/x-python",
   "name": "python",
   "nbconvert_exporter": "python",
   "pygments_lexer": "ipython3",
   "version": "3.10.16"
  }
 },
 "nbformat": 4,
 "nbformat_minor": 2
}
